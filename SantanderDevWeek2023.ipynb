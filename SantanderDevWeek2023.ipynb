{
  "cells": [
    {
      "cell_type": "markdown",
      "metadata": {
        "id": "9dfI-o7gLRq9"
      },
      "source": [
        "## **E**xtract (Extração)"
      ]
    },
    {
      "cell_type": "code",
      "execution_count": null,
      "metadata": {
        "colab": {
          "base_uri": "https://localhost:8080/"
        },
        "id": "NYydpX_GLRCB",
        "outputId": "bb0c5e39-a247-4526-8271-b82d69a56fce"
      },
      "outputs": [
        {
          "name": "stdout",
          "output_type": "stream",
          "text": [
            "[5377, 5378, 5379]\n"
          ]
        }
      ],
      "source": [
        "import pandas as pd\n",
        "\n",
        "# Código para extrair os IDs do arquivo SDW2023.csv\n",
        "df = pd.read_csv('SDW2023.csv')\n",
        "user_ids = df['UserID'].tolist()\n",
        "print(user_ids)"
      ]
    },
    {
      "cell_type": "code",
      "execution_count": 10,
      "metadata": {
        "colab": {
          "base_uri": "https://localhost:8080/"
        },
        "id": "F5XOuCZGSTGw",
        "outputId": "d3495bdc-67bb-49ca-c4fd-7fa403569b53"
      },
      "outputs": [
        {
          "name": "stdout",
          "output_type": "stream",
          "text": [
            "[\n",
            "  {\n",
            "    \"id\": 5377,\n",
            "    \"name\": \"Sebasti\\u00e3o Fellipe\",\n",
            "    \"account\": {\n",
            "      \"id\": 5709,\n",
            "      \"number\": \"41411-1\",\n",
            "      \"agency\": \"0111\",\n",
            "      \"balance\": 0.0,\n",
            "      \"limit\": 1000.0\n",
            "    },\n",
            "    \"card\": {\n",
            "      \"id\": 5219,\n",
            "      \"number\": \"4444 1111 4444 1111\",\n",
            "      \"limit\": 1000.0\n",
            "    },\n",
            "    \"features\": [\n",
            "      {\n",
            "        \"id\": 1633,\n",
            "        \"icon\": \"string\",\n",
            "        \"description\": \"string\"\n",
            "      }\n",
            "    ],\n",
            "    \"news\": [\n",
            "      {\n",
            "        \"id\": 9885,\n",
            "        \"icon\": \"string\",\n",
            "        \"description\": \"string\"\n",
            "      }\n",
            "    ]\n",
            "  },\n",
            "  {\n",
            "    \"id\": 5378,\n",
            "    \"name\": \"Ana Silva\",\n",
            "    \"account\": {\n",
            "      \"id\": 5710,\n",
            "      \"number\": \"52522-2\",\n",
            "      \"agency\": \"0222\",\n",
            "      \"balance\": 0.0,\n",
            "      \"limit\": 1000.0\n",
            "    },\n",
            "    \"card\": {\n",
            "      \"id\": 5220,\n",
            "      \"number\": \"5555 2222 5555 2222\",\n",
            "      \"limit\": 1000.0\n",
            "    },\n",
            "    \"features\": [\n",
            "      {\n",
            "        \"id\": 1634,\n",
            "        \"icon\": \"string\",\n",
            "        \"description\": \"string\"\n",
            "      }\n",
            "    ],\n",
            "    \"news\": [\n",
            "      {\n",
            "        \"id\": 9886,\n",
            "        \"icon\": \"string\",\n",
            "        \"description\": \"string\"\n",
            "      }\n",
            "    ]\n",
            "  },\n",
            "  {\n",
            "    \"id\": 5379,\n",
            "    \"name\": \"Leonardo Pereira\",\n",
            "    \"account\": {\n",
            "      \"id\": 5711,\n",
            "      \"number\": \"63633-3\",\n",
            "      \"agency\": \"0333\",\n",
            "      \"balance\": 0.0,\n",
            "      \"limit\": 1000.0\n",
            "    },\n",
            "    \"card\": {\n",
            "      \"id\": 5221,\n",
            "      \"number\": \"6666 3333 6666 3333\",\n",
            "      \"limit\": 1000.0\n",
            "    },\n",
            "    \"features\": [\n",
            "      {\n",
            "        \"id\": 1635,\n",
            "        \"icon\": \"string\",\n",
            "        \"description\": \"string\"\n",
            "      }\n",
            "    ],\n",
            "    \"news\": [\n",
            "      {\n",
            "        \"id\": 9887,\n",
            "        \"icon\": \"string\",\n",
            "        \"description\": \"string\"\n",
            "      }\n",
            "    ]\n",
            "  }\n",
            "]\n"
          ]
        }
      ],
      "source": [
        "import requests\n",
        "import json\n",
        "\n",
        "# URL da API da santader dev week (Swagger)\n",
        "sdw2023_api_url = 'https://sdw-2023-prd.up.railway.app'\n",
        "\n",
        "# O Swagger foi utilizado para criação dos seguintes clientes:\n",
        "# id: 5377 - Sebastião Fellipe\n",
        "# id: 5378 - Ana Silva\n",
        "# id: 5379 - Leonardo Pereira\n",
        "\n",
        "# Função para pegar as informações do cliente a partir do ID\n",
        "def get_user(id):\n",
        "  response = requests.get(f'{sdw2023_api_url}/users/{id}')\n",
        "  return response.json() if response.status_code == 200 else None\n",
        "\n",
        "# Código para criar uma lista atribuindo as informações de cada cliente\n",
        "users = [user for id in user_ids if (user := get_user(id)) is not None]\n",
        "print(json.dumps(users, indent=2))"
      ]
    },
    {
      "cell_type": "markdown",
      "metadata": {
        "id": "cWoqInB4TF1x"
      },
      "source": [
        "## **T**ransform (Transformação)"
      ]
    },
    {
      "cell_type": "code",
      "execution_count": null,
      "metadata": {
        "id": "n1w78kNxTrZY"
      },
      "outputs": [],
      "source": [
        "# instalação da biblioteca da openai\n",
        "!pip install openai\n",
        "\n",
        "import openai\n",
        "\n",
        "# API Key da OpenAI\n",
        "openai_api_key = ''\n",
        "# Atribuição da API Key\n",
        "openai.api_key = openai_api_key\n",
        "\n",
        "# Função para gerar uma mensagem personalizada para o cliente utilizando o chatGPT-3.5 turbo\n",
        "def generate_ai_news(user):\n",
        "  completion = openai.ChatCompletion.create(\n",
        "    model=\"gpt-3.5-turbo\",\n",
        "    messages=[\n",
        "      {\"role\": \"system\",\"content\": \"Você é um especialista em markting bancário.\"},\n",
        "      {\"role\": \"user\",\"content\": f\"Crie uma mensagem para {user['name']} sobre a importância dos investimentos (máximo de 100 caracteres)\"}\n",
        "    ]\n",
        "  )\n",
        "  return completion.choices[0].message.content.strip('\\\"')\n",
        "\n",
        "# Código para adicionar as mensagens personalizadas de cada cliente na lista user criada anteriormente\n",
        "for user in users:\n",
        "  news = generate_ai_news(user)\n",
        "  print(news)\n",
        "  user['news'].append({\n",
        "      \"icon\": \"https://digitalinnovationone.github.io/santander-dev-week-2023-api/icons/credit.svg\",\n",
        "      \"description\": news\n",
        "  })"
      ]
    },
    {
      "cell_type": "markdown",
      "metadata": {
        "id": "kNuP0SDUZMBY"
      },
      "source": [
        "## **L**oad (Carregamento)"
      ]
    },
    {
      "cell_type": "code",
      "execution_count": 17,
      "metadata": {
        "colab": {
          "base_uri": "https://localhost:8080/"
        },
        "id": "YefWfYBoZMN2",
        "outputId": "f34d270c-13e8-4b76-cbd7-3be0542e9648"
      },
      "outputs": [
        {
          "name": "stdout",
          "output_type": "stream",
          "text": [
            "User Sebastião Fellipe updated? True!\n",
            "User Ana Silva updated? True!\n",
            "User Leonardo Pereira updated? True!\n"
          ]
        }
      ],
      "source": [
        "# Função para atualizar os clientes\n",
        "def update_user(user):\n",
        "  response = requests.put(f\"{sdw2023_api_url}/users/{user['id']}\", json=user)\n",
        "  return True if response.status_code == 200 else False\n",
        "\n",
        "# Código para conferir se a atualização foi bem sucedida\n",
        "for user in users:\n",
        "  success = update_user(user)\n",
        "  print(f\"User {user['name']} updated? {success}!\")"
      ]
    }
  ],
  "metadata": {
    "colab": {
      "collapsed_sections": [
        "kNuP0SDUZMBY"
      ],
      "provenance": []
    },
    "kernelspec": {
      "display_name": "Python 3",
      "name": "python3"
    },
    "language_info": {
      "name": "python"
    }
  },
  "nbformat": 4,
  "nbformat_minor": 0
}
